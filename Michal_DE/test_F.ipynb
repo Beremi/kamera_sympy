{
 "cells": [
  {
   "cell_type": "code",
   "execution_count": null,
   "metadata": {},
   "outputs": [],
   "source": [
    "import jax.numpy as jnp\n",
    "from jax import jit\n",
    "\n",
    "\n",
    "def calculate(input_x, v, n, , S, L, f_obs,ff=0.008):\n",
    "    # Unpack input parameters\n",
    "    alpha, beta, gamma, X, Y, Z = input_x\n",
    "    n1, n2, n3 = n\n",
    "\n",
    "    # Rotation matrices\n",
    "    Rx = jnp.array([[1, 0, 0], [0, jnp.cos(alpha), -jnp.sin(alpha)], [0, jnp.sin(alpha), jnp.cos(alpha)]])\n",
    "    Ry = jnp.array([[jnp.cos(beta), 0, jnp.sin(beta)], [0, 1, 0], [-jnp.sin(beta), 0, jnp.cos(beta)]])\n",
    "    Rz = jnp.array([[jnp.cos(gamma), -jnp.sin(gamma), 0], [jnp.sin(gamma), jnp.cos(gamma), 0], [0, 0, 1]])\n",
    "    R = jnp.dot(jnp.dot(Rx, Ry), Rz)\n",
    "\n",
    "    # Vector v and calculations for x and o\n",
    "    x = input_x[-3:] - L * jnp.dot(R, v)\n",
    "    o = jnp.dot(R, v)\n",
    "\n",
    "    # Calculate 'a' using dot products\n",
    "    a = jnp.sqrt(((-jnp.dot(R[0], v) * Z) / jnp.dot(R[2], v))**2 +\n",
    "                 (-(jnp.dot(R[1], v) * Z) / jnp.dot(R[2], v))**2 + Z * Z)\n",
    "\n",
    "    # Calculate Q\n",
    "    Q = a * o + jnp.array([X, Y, Z])\n",
    "\n",
    "    # Project Sip onto the line defined by o and Q\n",
    "    results = []\n",
    "    for S_x, S_y, S_z in S:\n",
    "        Sip = jnp.array([S_x, S_y, S_z])\n",
    "        Sip_proj = Sip + (jnp.dot(o, Q) - jnp.dot(o, Sip)) * (x - Sip) / (jnp.dot(o, x) - jnp.dot(o, Sip))\n",
    "\n",
    "        # s_2 vector and s_1 as the cross product of o and s_2\n",
    "        s_2 = jnp.dot(R, jnp.array([n1, n2, n3]))\n",
    "        s_1 = jnp.cross(o, s_2)\n",
    "\n",
    "        # Calculate k_1 and k_2\n",
    "        k_1 = jnp.dot(Sip_proj - Q, s_1) / jnp.linalg.norm(s_1)**2\n",
    "        k_2 = jnp.dot(Sip_proj - Q, s_2) / jnp.linalg.norm(s_2)**2\n",
    "\n",
    "        # Calculate image plane coordinates f_1 and f_2\n",
    "        f_1 = k_1 * ff / (a + L - ff)\n",
    "        f_2 = k_2 * ff / (a + L - ff)\n",
    "\n",
    "        results.extend([f_1, f_2])\n",
    "\n",
    "    # Convert results to JAX array\n",
    "    results = jnp.array(results) * 1e3  # convert to mm\n",
    "\n",
    "    # MinSquare functional\n",
    "    diff = results - jnp.array(f_obs)\n",
    "    F_obs = jnp.sum(diff * diff)\n",
    "\n",
    "    return F_obs\n",
    "\n",
    "\n",
    "# JIT compile for efficiency\n",
    "calculate_jit = jit(calculate)"
   ]
  },
  {
   "cell_type": "code",
   "execution_count": 3,
   "metadata": {},
   "outputs": [],
   "source": [
    "import jax.numpy as jnp\n",
    "alpha = 1\n",
    "beta = 2\n",
    "gamma = 3\n"
   ]
  },
  {
   "cell_type": "code",
   "execution_count": 12,
   "metadata": {},
   "outputs": [
    {
     "name": "stdout",
     "output_type": "stream",
     "text": [
      "1.52 ms ± 24.9 µs per loop (mean ± std. dev. of 7 runs, 1,000 loops each)\n"
     ]
    }
   ],
   "source": [
    "%%timeit\n",
    "Rx = jnp.array([[1, 0, 0], [0, jnp.cos(alpha), -jnp.sin(alpha)], [0, jnp.sin(alpha), jnp.cos(alpha)]])\n",
    "Ry = jnp.array([[jnp.cos(beta), 0, jnp.sin(beta)], [0, 1, 0], [-jnp.sin(beta), 0, jnp.cos(beta)]])\n",
    "Rz = jnp.array([[jnp.cos(gamma), -jnp.sin(gamma), 0], [jnp.sin(gamma), jnp.cos(gamma), 0], [0, 0, 1]])\n",
    "R = jnp.dot(jnp.dot(Rx, Ry), Rz)\n",
    "R"
   ]
  },
  {
   "cell_type": "code",
   "execution_count": 10,
   "metadata": {},
   "outputs": [
    {
     "name": "stdout",
     "output_type": "stream",
     "text": [
      "3.2 ms ± 193 µs per loop (mean ± std. dev. of 7 runs, 100 loops each)\n"
     ]
    }
   ],
   "source": [
    "%%timeit\n",
    "# Preallocate identity matrices\n",
    "Rx = jnp.eye(3)\n",
    "Ry = jnp.eye(3)\n",
    "Rz = jnp.eye(3)\n",
    "\n",
    "# Compute sine and cosine of all angles\n",
    "cos_alpha, sin_alpha = jnp.cos(alpha), jnp.sin(alpha)\n",
    "cos_beta, sin_beta = jnp.cos(beta), jnp.sin(beta)\n",
    "cos_gamma, sin_gamma = jnp.cos(gamma), jnp.sin(gamma)\n",
    "\n",
    "# Input values into the matrices at given positions\n",
    "Rx = Rx.at[1, 1].set(cos_alpha).at[1, 2].set(-sin_alpha).at[2, 1].set(sin_alpha).at[2, 2].set(cos_alpha)\n",
    "Ry = Ry.at[0, 0].set(cos_beta).at[0, 2].set(sin_beta).at[2, 0].set(-sin_beta).at[2, 2].set(cos_beta)\n",
    "Rz = Rz.at[0, 0].set(cos_gamma).at[0, 1].set(-sin_gamma).at[1, 0].set(sin_gamma).at[1, 1].set(cos_gamma)\n",
    "\n",
    "R = Rx @ Ry @ Rz\n",
    "R"
   ]
  },
  {
   "cell_type": "code",
   "execution_count": 14,
   "metadata": {},
   "outputs": [],
   "source": [
    "import numpy as np\n",
    "a = np.arange(10)"
   ]
  },
  {
   "cell_type": "code",
   "execution_count": 18,
   "metadata": {},
   "outputs": [],
   "source": [
    "a = jnp.array([1,2])"
   ]
  },
  {
   "cell_type": "code",
   "execution_count": 19,
   "metadata": {},
   "outputs": [],
   "source": [
    "kk, ll = a"
   ]
  },
  {
   "cell_type": "code",
   "execution_count": 1,
   "metadata": {},
   "outputs": [],
   "source": [
    "from value_F import value_F"
   ]
  },
  {
   "cell_type": "code",
   "execution_count": 3,
   "metadata": {},
   "outputs": [],
   "source": []
  }
 ],
 "metadata": {
  "kernelspec": {
   "display_name": "Python 3",
   "language": "python",
   "name": "python3"
  },
  "language_info": {
   "codemirror_mode": {
    "name": "ipython",
    "version": 3
   },
   "file_extension": ".py",
   "mimetype": "text/x-python",
   "name": "python",
   "nbconvert_exporter": "python",
   "pygments_lexer": "ipython3",
   "version": "3.11.6"
  }
 },
 "nbformat": 4,
 "nbformat_minor": 2
}
