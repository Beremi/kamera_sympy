{
 "cells": [
  {
   "cell_type": "code",
   "execution_count": 33,
   "metadata": {},
   "outputs": [],
   "source": [
    "import sympy as sp\n",
    "\n",
    "# Define the symbols\n",
    "alpha, beta, gama, X, Y, Z, L, v1, v2, v3, n1, n2, n3, ff, S_x, S_y, S_z = sp.symbols(\n",
    "    'alpha beta gama X Y Z L v1 v2 v3 n1 n2 n3 ff S_x S_y S_z', real=True)\n",
    "# Define the symbols for S\n",
    "S1, S2, S3, S4, S5, S6, S7, S8, S9, S10, S11, S12, S13, S14, S15 = sp.symbols(\"S1:16\", real=True)\n",
    "# observations for minsquare\n",
    "f_obs1, f_obs2, f_obs3, f_obs4, f_obs5, f_obs6, f_obs7, f_obs8, f_obs9, f_obs10 = sp.symbols('f_obs1:11', real=True)\n",
    "\n",
    "# Sip and TCP\n",
    "Sip = sp.Matrix([S_x, S_y, S_z])\n",
    "TCP = sp.Matrix([X, Y, Z])\n",
    "\n",
    "# Rotation matrices Rx, Ry, Rz\n",
    "Rx = sp.Matrix([[1, 0, 0], [0, sp.cos(alpha), -sp.sin(alpha)], [0, sp.sin(alpha), sp.cos(alpha)]])\n",
    "Ry = sp.Matrix([[sp.cos(beta), 0, sp.sin(beta)], [0, 1, 0], [-sp.sin(beta), 0, sp.cos(beta)]])\n",
    "Rz = sp.Matrix([[sp.cos(gama), -sp.sin(gama), 0], [sp.sin(gama), sp.cos(gama), 0], [0, 0, 1]])\n",
    "R = sp.simplify(Rx * Ry * Rz)"
   ]
  },
  {
   "cell_type": "code",
   "execution_count": 36,
   "metadata": {},
   "outputs": [
    {
     "data": {
      "text/latex": [
       "$\\displaystyle \\left[\\begin{matrix}\\cos{\\left(\\beta \\right)} & 0 & \\sin{\\left(\\beta \\right)}\\\\\\sin{\\left(\\alpha \\right)} \\sin{\\left(\\beta \\right)} & \\cos{\\left(\\alpha \\right)} & - \\sin{\\left(\\alpha \\right)} \\cos{\\left(\\beta \\right)}\\\\- \\sin{\\left(\\beta \\right)} \\cos{\\left(\\alpha \\right)} & \\sin{\\left(\\alpha \\right)} & \\cos{\\left(\\alpha \\right)} \\cos{\\left(\\beta \\right)}\\end{matrix}\\right]$"
      ],
      "text/plain": [
       "Matrix([\n",
       "[            cos(beta),          0,             sin(beta)],\n",
       "[ sin(alpha)*sin(beta), cos(alpha), -sin(alpha)*cos(beta)],\n",
       "[-sin(beta)*cos(alpha), sin(alpha),  cos(alpha)*cos(beta)]])"
      ]
     },
     "execution_count": 36,
     "metadata": {},
     "output_type": "execute_result"
    }
   ],
   "source": [
    "Rx @ Ry"
   ]
  },
  {
   "cell_type": "code",
   "execution_count": 2,
   "metadata": {},
   "outputs": [],
   "source": [
    "import sympy as sp\n",
    "\n",
    "# Define the symbols\n",
    "alpha, beta, gama, X, Y, Z, L, v1, v2, v3, n1, n2, n3, ff, S_x, S_y, S_z = sp.symbols(\n",
    "    'alpha beta gama X Y Z L v1 v2 v3 n1 n2 n3 ff S_x S_y S_z', real=True)\n",
    "# Define the symbols for S\n",
    "S1, S2, S3, S4, S5, S6, S7, S8, S9, S10, S11, S12, S13, S14, S15 = sp.symbols(\"S1:16\", real=True)\n",
    "# observations for minsquare\n",
    "f_obs1, f_obs2, f_obs3, f_obs4, f_obs5, f_obs6, f_obs7, f_obs8, f_obs9, f_obs10 = sp.symbols('f_obs1:11', real=True)\n",
    "\n",
    "# Sip and TCP\n",
    "Sip = sp.Matrix([S_x, S_y, S_z])\n",
    "TCP = sp.Matrix([X, Y, Z])\n",
    "\n",
    "# Rotation matrices Rx, Ry, Rz\n",
    "Rx = sp.Matrix([[1, 0, 0], [0, sp.cos(alpha), -sp.sin(alpha)], [0, sp.sin(alpha), sp.cos(alpha)]])\n",
    "Ry = sp.Matrix([[sp.cos(beta), 0, sp.sin(beta)], [0, 1, 0], [-sp.sin(beta), 0, sp.cos(beta)]])\n",
    "Rz = sp.Matrix([[sp.cos(gama), -sp.sin(gama), 0], [sp.sin(gama), sp.cos(gama), 0], [0, 0, 1]])\n",
    "R = sp.simplify(Rx * Ry * Rz)\n",
    "\n",
    "# Vector v and calculations for x and o\n",
    "v = sp.Matrix([v1, v2, v3])\n",
    "x = sp.Matrix([X, Y, Z]) - L * R * v\n",
    "o = R * v\n",
    "\n",
    "# Calculate 'a' using dot products\n",
    "a = sp.simplify(sp.sqrt(((-R.row(0).dot(v) * Z) / (R.row(2).dot(v)))**2 +\n",
    "                        (-(R.row(1).dot(v) * Z) / (R.row(2).dot(v)))**2 + Z * Z))\n",
    "\n",
    "# Calculate Q\n",
    "Q = a * o + TCP\n",
    "\n",
    "# Project Sip onto the line defined by o and Q\n",
    "Sip_proj = Sip + (o.dot(Q) - o.dot(Sip)) * (x - Sip) / (o.dot(x) - o.dot(Sip))\n",
    "\n",
    "# s_2 vector and s_1 as the cross product of o and s_2\n",
    "s_2 = R @ sp.Matrix([n1, n2, n3])\n",
    "s_1 = o.cross(s_2)\n",
    "\n",
    "# Calculate k_1 and k_2\n",
    "k_1 = (Sip_proj - Q).dot(s_1) / s_1.norm()**2\n",
    "k_2 = (Sip_proj - Q).dot(s_2) / s_2.norm()**2\n",
    "\n",
    "# Q_t as a zero vector (for 2D image plane coordinates)\n",
    "Q_t = sp.Matrix([0, 0])\n",
    "\n",
    "# Calculate image plane coordinates f_1 and f_2\n",
    "f_1 = Q_t[0] + k_1 * ff / (a + L - ff)\n",
    "f_2 = Q_t[1] + k_2 * ff / (a + L - ff)\n",
    "\n",
    "\n",
    "M = sp.Matrix(5, 3, (S1, S2, S3, S4, S5, S6, S7, S8, S9, S10, S11, S12, S13, S14, S15))\n",
    "\n",
    "# Define the matrix to store the results of f1 and f2 for all S\n",
    "results = sp.Matrix(10, 1, [0] * 10)\n",
    "\n",
    "for i in range(5):\n",
    "    # Substitute the symbols from M for S_x, S_y, S_z in f_1 and f_2\n",
    "    f1_i = f_1.subs({S_x: M[i, 0], S_y: M[i, 1], S_z: M[i, 2]})\n",
    "    f2_i = f_2.subs({S_x: M[i, 0], S_y: M[i, 1], S_z: M[i, 2]})\n",
    "    # Store the results in the matrix (also convert to mm)\n",
    "    results[2 * i, 0] = f1_i * 1e3\n",
    "    results[2 * i + 1, 0] = f2_i * 1e3\n",
    "\n",
    "\n",
    "f = sp.Matrix(10, 1, (f_obs1, f_obs2, f_obs3, f_obs4, f_obs5, f_obs6, f_obs7, f_obs8, f_obs9, f_obs10))\n",
    "\n",
    "# MinSquare functional\n",
    "diff = results - f\n",
    "F_obs = (diff[0] * diff[0] + diff[1] * diff[1] +\n",
    "         diff[2] * diff[2] + diff[3] * diff[3] +\n",
    "         diff[4] * diff[4] + diff[5] * diff[5] +\n",
    "         diff[6] * diff[6] + diff[7] * diff[7] +\n",
    "         diff[8] * diff[8] + diff[9] * diff[9])"
   ]
  },
  {
   "cell_type": "code",
   "execution_count": 3,
   "metadata": {},
   "outputs": [
    {
     "data": {
      "text/latex": [
       "$\\displaystyle \\left[\\begin{matrix}\\cos{\\left(\\beta \\right)} \\cos{\\left(gama \\right)} & - \\sin{\\left(gama \\right)} \\cos{\\left(\\beta \\right)} & \\sin{\\left(\\beta \\right)}\\\\\\sin{\\left(\\alpha \\right)} \\sin{\\left(\\beta \\right)} \\cos{\\left(gama \\right)} + \\sin{\\left(gama \\right)} \\cos{\\left(\\alpha \\right)} & - \\sin{\\left(\\alpha \\right)} \\sin{\\left(\\beta \\right)} \\sin{\\left(gama \\right)} + \\cos{\\left(\\alpha \\right)} \\cos{\\left(gama \\right)} & - \\sin{\\left(\\alpha \\right)} \\cos{\\left(\\beta \\right)}\\\\\\sin{\\left(\\alpha \\right)} \\sin{\\left(gama \\right)} - \\sin{\\left(\\beta \\right)} \\cos{\\left(\\alpha \\right)} \\cos{\\left(gama \\right)} & \\sin{\\left(\\alpha \\right)} \\cos{\\left(gama \\right)} + \\sin{\\left(\\beta \\right)} \\sin{\\left(gama \\right)} \\cos{\\left(\\alpha \\right)} & \\cos{\\left(\\alpha \\right)} \\cos{\\left(\\beta \\right)}\\end{matrix}\\right]$"
      ],
      "text/plain": [
       "Matrix([\n",
       "[                                  cos(beta)*cos(gama),                                   -sin(gama)*cos(beta),             sin(beta)],\n",
       "[sin(alpha)*sin(beta)*cos(gama) + sin(gama)*cos(alpha), -sin(alpha)*sin(beta)*sin(gama) + cos(alpha)*cos(gama), -sin(alpha)*cos(beta)],\n",
       "[sin(alpha)*sin(gama) - sin(beta)*cos(alpha)*cos(gama),  sin(alpha)*cos(gama) + sin(beta)*sin(gama)*cos(alpha),  cos(alpha)*cos(beta)]])"
      ]
     },
     "execution_count": 3,
     "metadata": {},
     "output_type": "execute_result"
    }
   ],
   "source": [
    "R"
   ]
  },
  {
   "cell_type": "code",
   "execution_count": 4,
   "metadata": {},
   "outputs": [],
   "source": [
    "import inspect\n",
    "\n",
    "args = [X, Y, Z, alpha, beta, gama, L, v1, v2, v3, n1, n2, n3, ff,\n",
    "        S1, S2, S3, S4, S5, S6, S7, S8, S9, S10, S11, S12, S13, S14, S15,\n",
    "        f_obs1, f_obs2, f_obs3, f_obs4, f_obs5, f_obs6, f_obs7, f_obs8, f_obs9, f_obs10]\n",
    "F_obs_lambd = sp.lambdify(args, F_obs, modules='jax', cse=True)\n",
    "\n",
    "function_text = inspect.getsource(F_obs_lambd)\n",
    "\n",
    "\n",
    "def valueF_jax(x, v, n, L, ff, S, f):\n",
    "    return F_obs_lambd(x[0], x[1], x[2], x[3], x[4], x[5], L, v[0], v[1], v[2], n[0], n[1], n[2], ff,\n",
    "                       S[0], S[1], S[2], S[3], S[4], S[5], S[6], S[7], S[8], S[9], S[10], S[11], S[12], S[13], S[14],\n",
    "                       f[0], f[1], f[2], f[3], f[4], f[5], f[6], f[7], f[8], f[9])"
   ]
  },
  {
   "cell_type": "code",
   "execution_count": 6,
   "metadata": {},
   "outputs": [
    {
     "name": "stdout",
     "output_type": "stream",
     "text": [
      "def _lambdifygenerated(X, Y, Z, alpha, beta, gama, L, v1, v2, v3, n1, n2, n3, ff, S1, S2, S3, S4, S5, S6, S7, S8, S9, S10, S11, S12, S13, S14, S15, f_obs1, f_obs2, f_obs3, f_obs4, f_obs5, f_obs6, f_obs7, f_obs8, f_obs9, f_obs10):\n",
      "    x0 = cos(alpha)\n",
      "    x1 = cos(beta)\n",
      "    x2 = x0*x1\n",
      "    x3 = v3*x2\n",
      "    x4 = sin(alpha)\n",
      "    x5 = cos(gama)\n",
      "    x6 = x4*x5\n",
      "    x7 = sin(beta)\n",
      "    x8 = sin(gama)\n",
      "    x9 = x0*x8\n",
      "    x10 = x6 + x7*x9\n",
      "    x11 = v2*x10\n",
      "    x12 = x4*x8\n",
      "    x13 = x0*x5\n",
      "    x14 = x12 - x13*x7\n",
      "    x15 = v1*x14\n",
      "    x16 = x11 + x15 + x3\n",
      "    x17 = sqrt(v1**2 + v2**2 + v3**2)*abs(Z/x16)\n",
      "    x18 = (L - ff + x17)**(-1.0)\n",
      "    x19 = x1*x5\n",
      "    x20 = x1*x8\n",
      "    x21 = n1*x19 - n2*x20 + n3*x7\n",
      "    x22 = n1*x14 + n2*x10 + n3*x2\n",
      "    x23 = x1*x4\n",
      "    x24 = n3*x23\n",
      "    x25 = x6*x7 + x9\n",
      "    x26 = n1*x25\n",
      "    x27 = x12*x7 - x13\n",
      "    x28 = n2*x27 + x24 - x26\n",
      "    x29 = (x21**2 + x22**2 + x28**2)**(-1.0)\n",
      "    x30 = -X\n",
      "    x31 = v3*x7\n",
      "    x32 = v1*x19\n",
      "    x33 = -L*v2*x1*x8 + L*x31 + L*x32 + x30\n",
      "    x34 = v3*x23\n",
      "    x35 = v1*x25\n",
      "    x36 = -x27\n",
      "    x37 = v2*x36\n",
      "    x38 = -x34 + x35 + x37\n",
      "    x39 = -Y\n",
      "    x40 = -L*v3*x1*x4 + L*x35 + L*x37 + x39\n",
      "    x41 = -Z\n",
      "    x42 = L*x11 + L*x15 + L*x3 + x41\n",
      "    x43 = -v2*x20 + x31 + x32\n",
      "    x44 = x16*x42 + x33*x43 + x38*x40\n",
      "    x45 = S13*x43 + S14*x38 + S15*x16\n",
      "    x46 = x17*x43\n",
      "    x47 = x17*x38\n",
      "    x48 = x16*x17\n",
      "    x49 = -x16*(Z + x48) - x38*(Y + x47) - x43*(X + x46)\n",
      "    x50 = (-x45 - x49)/(-x44 - x45)\n",
      "    x51 = x30 - x46\n",
      "    x52 = S13 + x50*(-S13 - x33) + x51\n",
      "    x53 = x41 - x48\n",
      "    x54 = S15 + x50*(-S15 - x42) + x53\n",
      "    x55 = n2*x36 - x24 + x26\n",
      "    x56 = x39 - x47\n",
      "    x57 = S14 + x50*(-S14 - x40) + x56\n",
      "    x58 = S1*x43 + S2*x38 + S3*x16\n",
      "    x59 = (-x49 - x58)/(-x44 - x58)\n",
      "    x60 = S1 + x51 + x59*(-S1 - x33)\n",
      "    x61 = S3 + x53 + x59*(-S3 - x42)\n",
      "    x62 = S2 + x56 + x59*(-S2 - x40)\n",
      "    x63 = S4*x43 + S5*x38 + S6*x16\n",
      "    x64 = (-x49 - x63)/(-x44 - x63)\n",
      "    x65 = S4 + x51 + x64*(-S4 - x33)\n",
      "    x66 = S6 + x53 + x64*(-S6 - x42)\n",
      "    x67 = S5 + x56 + x64*(-S5 - x40)\n",
      "    x68 = S7*x43 + S8*x38 + S9*x16\n",
      "    x69 = (-x49 - x68)/(-x44 - x68)\n",
      "    x70 = S7 + x51 + x69*(-S7 - x33)\n",
      "    x71 = S9 + x53 + x69*(-S9 - x42)\n",
      "    x72 = S8 + x56 + x69*(-S8 - x40)\n",
      "    x73 = S10*x43 + S11*x38 + S12*x16\n",
      "    x74 = (-x49 - x73)/(-x44 - x73)\n",
      "    x75 = S10 + x51 + x74*(-S10 - x33)\n",
      "    x76 = S12 + x53 + x74*(-S12 - x42)\n",
      "    x77 = S11 + x56 + x74*(-S11 - x40)\n",
      "    x78 = -x16*x21 + x22*x43\n",
      "    x79 = v2*x27 + x34 - x35\n",
      "    x80 = (x78**2 + (-x16*x28 + x22*x79)**2 + (-x21*x79 + x28*x43)**2)**(-1.0)\n",
      "    x81 = -x16*x55 + x22*x38\n",
      "    x82 = -x78\n",
      "    x83 = -x21*x38 + x43*x55\n",
      "    return 1000000.0*(-0.001*f_obs1 + ff*x18*x80*(x60*x81 + x61*x83 + x62*x82))**2 + 1000000.0*(-0.001*f_obs10 + ff*x18*x29*(x21*x52 + x22*x54 + x55*x57))**2 + 1000000.0*(-0.001*f_obs2 + ff*x18*x29*(x21*x60 + x22*x61 + x55*x62))**2 + 1000000.0*(-0.001*f_obs3 + ff*x18*x80*(x65*x81 + x66*x83 + x67*x82))**2 + 1000000.0*(-0.001*f_obs4 + ff*x18*x29*(x21*x65 + x22*x66 + x55*x67))**2 + 1000000.0*(-0.001*f_obs5 + ff*x18*x80*(x70*x81 + x71*x83 + x72*x82))**2 + 1000000.0*(-0.001*f_obs6 + ff*x18*x29*(x21*x70 + x22*x71 + x55*x72))**2 + 1000000.0*(-0.001*f_obs7 + ff*x18*x80*(x75*x81 + x76*x83 + x77*x82))**2 + 1000000.0*(-0.001*f_obs8 + ff*x18*x29*(x21*x75 + x22*x76 + x55*x77))**2 + 1000000.0*(-0.001*f_obs9 + ff*x18*x80*(x52*x81 + x54*x83 + x57*x82))**2\n",
      "\n"
     ]
    }
   ],
   "source": [
    "print(function_text)\n"
   ]
  },
  {
   "cell_type": "code",
   "execution_count": null,
   "metadata": {},
   "outputs": [],
   "source": [
    "import jax.numpy as jnp\n",
    "from jax.numpy import sin, cos, sqrt, abs\n",
    "import jax\n",
    "\n",
    "# Set JAX to use 64-bit floats\n",
    "jax.config.update('jax_enable_x64', True)\n",
    "\n",
    "# derivative of abs_val using jax\n",
    "gradF_jax = jax.grad(valueF_jax, argnums=0)\n",
    "hessF_jax = jax.hessian(valueF_jax, argnums=0)\n",
    "\n",
    "valueF_jax_compiled = jax.jit(valueF_jax)\n",
    "grafF_compiled = jax.jit(gradF_jax)\n",
    "hessF_compiled = jax.jit(hessF_jax)"
   ]
  },
  {
   "cell_type": "code",
   "execution_count": null,
   "metadata": {},
   "outputs": [],
   "source": [
    "import pandas as pd\n",
    "import numpy as np\n",
    "\n",
    "# Reading data from Excel\n",
    "images = pd.read_excel('body.xlsx', usecols='A:J', header=None).to_numpy()\n",
    "camera_coordinates = pd.read_excel('souradnice.xlsx', usecols='A:F', header=None).to_numpy()\n",
    "X = camera_coordinates\n",
    "\n",
    "# Converting degrees to radians\n",
    "X[:, 3:5] = X[:, 3:5] * np.pi / 180\n",
    "\n",
    "# Extracting columns from images\n",
    "aa, bb, cc, dd, ee = images[:, 0:2], images[:, 2:4], images[:, 4:6], images[:, 6:8], images[:, 8:10]\n",
    "\n",
    "# Transformation matrices\n",
    "Transform_matrix = np.array([[0, -1, 0], [1, 0, 0], [0, 0, -1]])\n",
    "Transform_matrix_rotation = np.array([[0, 1, 0], [-1, 0, 0], [0, 0, 1]])\n",
    "\n",
    "S = np.array([0, 0, 0, 0.05, 0.05, 0, 0.05, -0.05, 0, -0.05, -0.05, 0, -0.05, 0.05, 0]) * 1e3\n",
    "\n",
    "v = np.array([0, 0, -1])\n",
    "n = np.array([0, 1, 0])\n",
    "\n",
    "L = 12.5 * 1e-3\n",
    "L = 9.5 * 1e-3\n",
    "\n",
    "F_val = []\n",
    "for j in range(1):  # In Python, loop starts from 0\n",
    "    x = X[j, :].T\n",
    "    x = np.concatenate((Transform_matrix @ x[:3], Transform_matrix_rotation @ x[3:6]))\n",
    "\n",
    "    L = min([309.5 * 1e-3, 309.5 * 1e-3 + x[2] * 1e-3])\n",
    "    x[2] = max([x[2], 0])\n",
    "\n",
    "    SS = np.array([2592 / 2, 1944 / 2])\n",
    "\n",
    "    A, B, C, D, E = aa[j, :].T - SS, bb[j, :].T - SS, cc[j, :].T - SS, dd[j, :].T - SS, ee[j, :].T - SS\n",
    "\n",
    "    f_presc = np.array([A, B, C, D, E]).ravel() * 2.2 / 1e6 * 1e3\n",
    "    f_presc[[2, 3, 6, 7]] = f_presc[[6, 7, 2, 3]]\n",
    "\n",
    "    x01 = x + np.array([1, 1, 1, 0.00001, 0.00001, 0.00001])\n",
    "\n",
    "    # Optimization function (fmin_beres) should be defined or replaced with an equivalent\n",
    "    # [x, it] = fmin_beres(S * 1e-3, f_presc, v, n, L, 1000, 1e-6)\n",
    "    # x[:3] = x[:3] * 1e3\n",
    "\n",
    "    # Function value_f and valueF should be defined\n",
    "    # f = value_f(x[0] * 1e-3, x[1] * 1e-3, x[2] * 1e-3, x[3], x[4], x[5], S * 1e-3, v, n, L)\n",
    "    # F_val.append(valueF(x[0] * 1e-3, x[1] * 1e-3, x[2] * 1e-3, x[3], x[4], x[5], S * 1e-3, f_presc, v, n, L))"
   ]
  },
  {
   "cell_type": "code",
   "execution_count": null,
   "metadata": {},
   "outputs": [],
   "source": [
    "x01[:3] = x01[:3]*1e-3"
   ]
  },
  {
   "cell_type": "code",
   "execution_count": null,
   "metadata": {},
   "outputs": [],
   "source": [
    "valueF_jax_compiled(jnp.array(x01,dtype=jnp.float64), jnp.array(v,dtype=jnp.float64), \n",
    "                    jnp.array(n, dtype=jnp.float64), L, 0.008, \n",
    "                    jnp.array(S, dtype=jnp.float64)*1e-3, jnp.array(f_presc, dtype=jnp.float64))"
   ]
  },
  {
   "cell_type": "code",
   "execution_count": null,
   "metadata": {},
   "outputs": [],
   "source": [
    "grafF_compiled(jnp.array(x01, dtype=jnp.float64), jnp.array(v, dtype=jnp.float64),\n",
    "               jnp.array(n, dtype=jnp.float64), L, 0.008,\n",
    "               jnp.array(S, dtype=jnp.float64)*1e-3, jnp.array(f_presc, dtype=jnp.float64))"
   ]
  },
  {
   "cell_type": "code",
   "execution_count": null,
   "metadata": {},
   "outputs": [],
   "source": [
    "hessF_compiled(jnp.array(x01, dtype=jnp.float64), jnp.array(v, dtype=jnp.float64),\n",
    "               jnp.array(n, dtype=jnp.float64), L, 0.008,\n",
    "               jnp.array(S, dtype=jnp.float64)*1e-3, jnp.array(f_presc, dtype=jnp.float64))"
   ]
  }
 ],
 "metadata": {
  "kernelspec": {
   "display_name": "Python 3",
   "language": "python",
   "name": "python3"
  },
  "language_info": {
   "codemirror_mode": {
    "name": "ipython",
    "version": 3
   },
   "file_extension": ".py",
   "mimetype": "text/x-python",
   "name": "python",
   "nbconvert_exporter": "python",
   "pygments_lexer": "ipython3",
   "version": "3.11.6"
  }
 },
 "nbformat": 4,
 "nbformat_minor": 2
}
