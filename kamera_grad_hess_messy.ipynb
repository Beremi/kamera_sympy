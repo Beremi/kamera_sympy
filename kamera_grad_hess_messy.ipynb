{
 "cells": [
  {
   "cell_type": "markdown",
   "metadata": {},
   "source": [
    "```\n",
    "\n",
    "Sip = [S_x; S_y; S_z];\n",
    "TCP = [X; Y; Z];\n",
    "\n",
    "Rx = [1, 0, 0; 0, cos(alpha), sin(alpha); 0, -sin(alpha), cos(alpha)];\n",
    "Ry = [cos(beta), 0, -sin(beta); 0, 1, 0; sin(beta), 0, cos(beta)];\n",
    "Rz = [cos(gama), sin(gama), 0; -sin(gama), cos(gama), 0; 0, 0, 1];\n",
    "R = Rx*Ry*Rz;\n",
    "\n",
    "v = [v1; v2; v3];\n",
    "x = [X; Y; Z]-L*R*v;\n",
    "o = R*v;\n",
    "\n",
    "\n",
    "a = sqrt(((-R(1,:)*v*TCP(3))/(R(3,:)*v))^2+(-(R(2,:)*v)*TCP(3)/(R(3,:)*v))^2+(-TCP(3))^2);\n",
    "Q = a*o+TCP;\n",
    "Sip_proj = Sip+(o'*Q-o'*Sip)*(x-Sip)/(o'*x-o'*Sip);\n",
    "s_2 = [n1; n2; n3];\n",
    "s_1 = cross(o,s_2);\n",
    "k_1 = ((Sip_proj-Q)*s_1)/norm(s_1)^2;\n",
    "k_2 = ((Sip_proj-Q)*s_2)/norm(s_2)^2;\n",
    "Q_t = [0; 0];\n",
    "\n",
    "% Obraz v zobrazovaci rovine\n",
    "f_1 = (Q_t(1)+k_1*ff/(a+L-ff));\n",
    "f_2 = Q_t(1)+k_2*ff/(a+L-ff);\n",
    "\n",
    "% Derivace:\n",
    "df1_X = diff(f_1, X);\n",
    "df1_Y = diff(f_1, Y);\n",
    "df1_Z = diff(f_1, Z);\n",
    "df1_alpha = diff(f_1, alpha);\n",
    "df1_beta = diff(f_1, beta);\n",
    "df1_gama = diff(f_1, gama);\n",
    " \n",
    "df2_X = diff(f_2, X);\n",
    "df2_Y = diff(f_2, Y);\n",
    "df2_Z = diff(f_2, Z);\n",
    "df2_alpha = diff(f_2, alpha);\n",
    "df2_beta = diff(f_2, beta);\n",
    "df2_gama = diff(f_2, gama);\n",
    "\n",
    "```"
   ]
  },
  {
   "cell_type": "code",
   "execution_count": null,
   "metadata": {},
   "outputs": [],
   "source": [
    "import sympy as sp\n",
    "\n",
    "# Define the symbols\n",
    "alpha, beta, gama, X, Y, Z, L, v1, v2, v3, n1, n2, n3, ff, S_x, S_y, S_z = sp.symbols(\n",
    "    'alpha beta gama X Y Z L v1 v2 v3 n1 n2 n3 ff S_x S_y S_z', real=True)\n",
    "\n",
    "# Sip and TCP\n",
    "Sip = sp.Matrix([S_x, S_y, S_z])\n",
    "TCP = sp.Matrix([X, Y, Z])\n",
    "\n",
    "# Rotation matrices Rx, Ry, Rz\n",
    "Rx = sp.Matrix([[1, 0, 0], [0, sp.cos(alpha), -sp.sin(alpha)], [0, sp.sin(alpha), sp.cos(alpha)]])\n",
    "Ry = sp.Matrix([[sp.cos(beta), 0, sp.sin(beta)], [0, 1, 0], [-sp.sin(beta), 0, sp.cos(beta)]])\n",
    "Rz = sp.Matrix([[sp.cos(gama), -sp.sin(gama), 0], [sp.sin(gama), sp.cos(gama), 0], [0, 0, 1]])\n",
    "R = sp.simplify(Rx * Ry * Rz)\n",
    "\n",
    "# Vector v and calculations for x and o\n",
    "v = sp.Matrix([v1, v2, v3])\n",
    "x = sp.Matrix([X, Y, Z]) - L * R * v\n",
    "o = R * v\n",
    "\n",
    "# Calculate 'a' using dot products\n",
    "a = sp.simplify(sp.sqrt(((-R.row(0).dot(v) * Z) / (R.row(2).dot(v)))**2 +\n",
    "                        (-(R.row(1).dot(v) * Z) / (R.row(2).dot(v)))**2 + Z * Z))\n",
    "\n",
    "# Calculate Q\n",
    "Q = a * o + TCP\n",
    "\n",
    "# Project Sip onto the line defined by o and Q\n",
    "Sip_proj = Sip + (o.dot(Q) - o.dot(Sip)) * (x - Sip) / (o.dot(x) - o.dot(Sip))\n",
    "\n",
    "# s_2 vector and s_1 as the cross product of o and s_2\n",
    "s_2 = sp.Matrix([n1, n2, n3])\n",
    "s_1 = o.cross(s_2)\n",
    "\n",
    "# Calculate k_1 and k_2\n",
    "k_1 = (Sip_proj - Q).dot(s_1) / s_1.norm()**2\n",
    "k_2 = (Sip_proj - Q).dot(s_2) / s_2.norm()**2\n",
    "\n",
    "# Q_t as a zero vector (for 2D image plane coordinates)\n",
    "Q_t = sp.Matrix([0, 0])\n",
    "\n",
    "# Calculate image plane coordinates f_1 and f_2\n",
    "f_1 = Q_t[0] + k_1 * ff / (a + L - ff)\n",
    "f_2 = Q_t[1] + k_2 * ff / (a + L - ff)\n",
    "f_both = sp.Matrix([f_1, f_2])"
   ]
  },
  {
   "cell_type": "code",
   "execution_count": null,
   "metadata": {},
   "outputs": [],
   "source": [
    "\n",
    "\n",
    "# Define the vector of symbols\n",
    "v = sp.Matrix([X, Y, Z, alpha, beta, gama])\n",
    "\n",
    "# Compute the gradient of f_1 with respect to the vector v\n",
    "gradient_f1 = sp.derive_by_array(f_1, v)\n"
   ]
  },
  {
   "cell_type": "code",
   "execution_count": null,
   "metadata": {},
   "outputs": [],
   "source": [
    "gradient_f1"
   ]
  },
  {
   "cell_type": "code",
   "execution_count": null,
   "metadata": {},
   "outputs": [],
   "source": [
    "reduced_exprs, simplified_expr = sp.cse(gradient_f1)\n",
    "subs_dict = {}\n",
    "for var, subexpr in reduced_exprs:\n",
    "    if subexpr.func == sp.Symbol:\n",
    "        subs_dict[var] = subexpr\n",
    "    else:\n",
    "        subs_dict[var] = subexpr\n",
    "subs_dict"
   ]
  },
  {
   "cell_type": "code",
   "execution_count": null,
   "metadata": {},
   "outputs": [],
   "source": [
    "\n",
    "import sympy as sp\n",
    "\n",
    "\n",
    "tmp = reduced_exprs[35][1]\n",
    "\n",
    "octave_code = sp.printing.octave_code(simplified_expr)\n",
    "print(octave_code)\n"
   ]
  },
  {
   "cell_type": "code",
   "execution_count": null,
   "metadata": {},
   "outputs": [],
   "source": [
    "import inspect\n",
    "gradient_f1_lambd = sp.lambdify(v, gradient_f1, modules='sympy',cse=True)\n",
    "print(inspect.getsource(gradient_f1_lambd))"
   ]
  },
  {
   "cell_type": "code",
   "execution_count": null,
   "metadata": {},
   "outputs": [],
   "source": [
    "subs_dict = {}\n",
    "for var, subexpr in reduced_exprs:\n",
    "    if subexpr.func == sp.Symbol:\n",
    "        subs_dict[var] = subexpr\n",
    "    else:\n",
    "        subs_dict[var] = subexpr\n",
    "subs_dict"
   ]
  },
  {
   "cell_type": "code",
   "execution_count": null,
   "metadata": {},
   "outputs": [],
   "source": [
    "reduced_exprs, simplified_expr = sp.cse(gradient_f1[3])\n",
    "reduced_exprs[140][1].subs(subs_dict).subs(subs_dict).subs(subs_dict).subs(\n",
    "    subs_dict).subs(subs_dict).subs(subs_dict).subs(subs_dict)"
   ]
  },
  {
   "cell_type": "code",
   "execution_count": null,
   "metadata": {},
   "outputs": [],
   "source": [
    "import numpy as np\n",
    "import inspect\n",
    "f1_lambd = sp.lambdify(v, f_1, modules=[\"mpmath\"],cse=True)\n",
    "\n",
    "print(inspect.getsource(f1_lambd))\n"
   ]
  },
  {
   "cell_type": "code",
   "execution_count": null,
   "metadata": {},
   "outputs": [],
   "source": [
    "df1_X = sp.diff(f_1, X)\n",
    "df1_Y = sp.diff(f_1, Y)\n",
    "df1_Z = sp.diff(f_1, Z)\n",
    "df1_alpha = sp.diff(f_1, alpha)\n",
    "df1_beta = sp.diff(f_1, beta)\n",
    "df1_gama = sp.diff(f_1, gama)\n",
    "\n",
    "df2_X = sp.diff(f_2, X)\n",
    "df2_Y = sp.diff(f_2, Y)\n",
    "df2_Z = sp.diff(f_2, Z)\n",
    "df2_alpha = sp.diff(f_2, alpha)\n",
    "df2_beta = sp.diff(f_2, beta)\n",
    "df2_gama = sp.diff(f_2, gama)"
   ]
  },
  {
   "cell_type": "code",
   "execution_count": null,
   "metadata": {},
   "outputs": [],
   "source": [
    "import sympy as sp\n",
    "\n",
    "# Define the symbols\n",
    "S1, S2, S3, S4, S5, S6, S7, S8, S9, S10, S11, S12, S13, S14, S15 = sp.symbols(\"S1:16\", real=True)\n",
    "\n",
    "# Create the matrix\n",
    "M = sp.Matrix(5, 3, (S1, S2, S3, S4, S5, S6, S7, S8, S9, S10, S11, S12, S13, S14, S15))\n",
    "\n",
    "# Print the matrix\n",
    "print(M)"
   ]
  },
  {
   "cell_type": "code",
   "execution_count": null,
   "metadata": {},
   "outputs": [],
   "source": [
    "# Define the matrix to store the results\n",
    "results = sp.Matrix(10, 1, [0] * 10)\n",
    "\n",
    "# Define the loop\n",
    "for i in range(5):\n",
    "    # Substitute the symbols from M for S_x, S_y, S_z in f_1 and f_2\n",
    "    f1_i = f_1.subs({S_x: M[i, 0], S_y: M[i, 1], S_z: M[i, 2]})\n",
    "    f2_i = f_2.subs({S_x: M[i, 0], S_y: M[i, 1], S_z: M[i, 2]})\n",
    "    \n",
    "    # Store the results in the matrix\n",
    "    results[2 * i, 0] = f1_i * 1e3\n",
    "    results[2 * i + 1, 0] = f2_i * 1e3\n",
    "    \n"
   ]
  },
  {
   "cell_type": "code",
   "execution_count": null,
   "metadata": {},
   "outputs": [],
   "source": [
    "import sympy as sp\n",
    "\n",
    "f_obs1, f_obs2, f_obs3, f_obs4, f_obs5, f_obs6, f_obs7, f_obs8, f_obs9, f_obs10 = sp.symbols('f_obs1:11', real=True)\n",
    "\n",
    "# Define the symbols\n",
    "f_obs = sp.Matrix(10, 1, (f_obs1, f_obs2, f_obs3, f_obs4, f_obs5, f_obs6, f_obs7, f_obs8, f_obs9, f_obs10))\n",
    "\n",
    "# Print the vector\n",
    "print(f_obs)"
   ]
  },
  {
   "cell_type": "code",
   "execution_count": null,
   "metadata": {},
   "outputs": [],
   "source": [
    "diff = results - f_obs\n",
    "F_obs = diff.norm()**2"
   ]
  },
  {
   "cell_type": "code",
   "execution_count": null,
   "metadata": {},
   "outputs": [],
   "source": []
  },
  {
   "cell_type": "code",
   "execution_count": null,
   "metadata": {},
   "outputs": [],
   "source": [
    "import inspect\n",
    "\n",
    "args = [alpha, beta, gama, X, Y, Z, L, v1, v2, v3, n1, n2, n3, ff, \n",
    "        S1, S2, S3, S4, S5, S6, S7, S8, S9, S10, S11, S12, S13, S14, S15,\n",
    "        f_obs1, f_obs2, f_obs3, f_obs4, f_obs5, f_obs6, f_obs7, f_obs8, f_obs9, f_obs10]\n",
    "F_obs_lambd = sp.lambdify(args, F_obs, modules='numpy', cse=True)\n",
    "\n",
    "print(inspect.getsource(F_obs_lambd))"
   ]
  },
  {
   "cell_type": "code",
   "execution_count": null,
   "metadata": {},
   "outputs": [],
   "source": [
    "# Define the vector of symbols\n",
    "v = sp.Matrix([X, Y, Z, alpha, beta, gama])\n",
    "\n",
    "# Compute the gradient of f_1 with respect to the vector v\n",
    "gradient_F_obs = sp.derive_by_array(F_obs, v)"
   ]
  },
  {
   "cell_type": "code",
   "execution_count": null,
   "metadata": {},
   "outputs": [],
   "source": [
    "import inspect\n",
    "\n",
    "args = [alpha, beta, gama, X, Y, Z, L, v1, v2, v3, n1, n2, n3, ff,\n",
    "        S1, S2, S3, S4, S5, S6, S7, S8, S9, S10, S11, S12, S13, S14, S15,\n",
    "        f_obs1, f_obs2, f_obs3, f_obs4, f_obs5, f_obs6, f_obs7, f_obs8, f_obs9, f_obs10]\n",
    "gradient_F_obs_lambd = sp.lambdify(args, gradient_F_obs, modules='numpy', cse=True)\n",
    "\n",
    "print(inspect.getsource(gradient_F_obs_lambd))"
   ]
  },
  {
   "cell_type": "code",
   "execution_count": null,
   "metadata": {},
   "outputs": [],
   "source": [
    "import sympy as sp\n",
    "# Define the vector of symbols\n",
    "v = sp.Matrix([X, Y, Z, alpha, beta, gama])\n",
    "\n",
    "# Compute the gradient of f_1 with respect to the vector v\n",
    "\n",
    "# Create a 6x6 matrix in sympy\n",
    "hessian_F_obs = sp.Matrix(6, 6, [0] * 36)\n",
    "\n",
    "for i in range(6):\n",
    "    for j in range(6):\n",
    "        print(f\"Done with {i}, {j}\")\n",
    "        hessian_F_obs[i, j] = sp.diff(gradient_F_obs[i], v[j])"
   ]
  },
  {
   "cell_type": "code",
   "execution_count": null,
   "metadata": {},
   "outputs": [],
   "source": [
    "print(hessian_F_obs[0,0])"
   ]
  },
  {
   "cell_type": "code",
   "execution_count": null,
   "metadata": {},
   "outputs": [],
   "source": [
    "import inspect\n",
    "\n",
    "args = [alpha, beta, gama, X, Y, Z, L, v1, v2, v3, n1, n2, n3, ff,\n",
    "        S1, S2, S3, S4, S5, S6, S7, S8, S9, S10, S11, S12, S13, S14, S15,\n",
    "        f_obs1, f_obs2, f_obs3, f_obs4, f_obs5, f_obs6, f_obs7, f_obs8, f_obs9, f_obs10]\n",
    "hessian_F_obs_lambd = sp.lambdify(args, hessian_F_obs[3, 0], modules='numpy', cse=True)\n",
    "\n",
    "print(inspect.getsource(hessian_F_obs_lambd))"
   ]
  },
  {
   "cell_type": "code",
   "execution_count": null,
   "metadata": {},
   "outputs": [],
   "source": [
    "import numpy as np\n",
    "\n",
    "res_np = np.zeros((6,6))\n",
    "for i in range(6):\n",
    "    for j in range(6):\n",
    "        xpr_term, xpr_res = sp.cse(hessian_F_obs[i, j])\n",
    "        res_np[i, j] = len(xpr_term)\n",
    "\n",
    "res_np"
   ]
  },
  {
   "cell_type": "code",
   "execution_count": null,
   "metadata": {},
   "outputs": [],
   "source": [
    "list(range(6,6))"
   ]
  },
  {
   "cell_type": "code",
   "execution_count": null,
   "metadata": {},
   "outputs": [],
   "source": [
    "for i in range(6):\n",
    "    for j in range(i+1,6):\n",
    "        hessian_F_obs[i, j] = 0"
   ]
  },
  {
   "cell_type": "code",
   "execution_count": null,
   "metadata": {},
   "outputs": [],
   "source": [
    "xpr_term, xpr_res = sp.cse(hessian_F_obs)"
   ]
  },
  {
   "cell_type": "code",
   "execution_count": null,
   "metadata": {},
   "outputs": [],
   "source": [
    "len(xpr_term)"
   ]
  },
  {
   "cell_type": "code",
   "execution_count": null,
   "metadata": {},
   "outputs": [],
   "source": [
    "subs_dict = {}\n",
    "for var, subexpr in xpr_term:\n",
    "    subs_dict[var] = subexpr\n",
    "subs_dict"
   ]
  },
  {
   "cell_type": "code",
   "execution_count": null,
   "metadata": {},
   "outputs": [],
   "source": [
    "subs_dict1 = {}\n",
    "for var, subexpr in xpr_term:\n",
    "    if str(subexpr).find('Derivative') != -1:\n",
    "        subs_dict1[var] = subexpr.subs(subs_dict)\n",
    "subs_dict1"
   ]
  },
  {
   "cell_type": "code",
   "execution_count": null,
   "metadata": {},
   "outputs": [],
   "source": [
    "zero_dict = {key: 0 for key in subs_dict1.keys()}\n",
    "zero_dict"
   ]
  },
  {
   "cell_type": "code",
   "execution_count": null,
   "metadata": {},
   "outputs": [],
   "source": [
    "# Drop subs_dict entries from subs_dict1.keys()\n",
    "for key in zero_dict:\n",
    "    if key in subs_dict:\n",
    "        subs_dict.pop(key)\n",
    "\n",
    "# Substitute each entry in subs_dict for 0 in subs_dict1\n",
    "for key in subs_dict:\n",
    "    subs_dict[key] = subs_dict[key].subs(zero_dict)\n"
   ]
  },
  {
   "cell_type": "code",
   "execution_count": null,
   "metadata": {},
   "outputs": [],
   "source": [
    "for key in subs_dict:\n",
    "    if subs_dict[key] == 0:\n",
    "        print(key)\n",
    "        zero_dict[key] = 0\n"
   ]
  },
  {
   "cell_type": "code",
   "execution_count": null,
   "metadata": {},
   "outputs": [],
   "source": [
    "subs_dict2 = {}\n",
    "for var, subexpr in xpr_term:\n",
    "    if str(subexpr).find('**') != -1:\n",
    "        if str(subexpr.subs(subs_dict))[0:4] == 'sign':\n",
    "            subs_dict2[var] = subexpr.subs(subs_dict)\n",
    "subs_dict2"
   ]
  },
  {
   "cell_type": "code",
   "execution_count": null,
   "metadata": {},
   "outputs": [],
   "source": [
    "one_dict = {key: 1 for key in subs_dict2.keys()}\n",
    "one_dict"
   ]
  },
  {
   "cell_type": "code",
   "execution_count": null,
   "metadata": {},
   "outputs": [],
   "source": [
    "# Drop subs_dict entries from subs_dict1.keys()\n",
    "for key in one_dict:\n",
    "    if key in subs_dict:\n",
    "        subs_dict.pop(key)\n",
    "\n",
    "# Substitute each entry in subs_dict for 0 in subs_dict1\n",
    "for key in subs_dict:\n",
    "    subs_dict[key] = subs_dict[key].subs(one_dict)"
   ]
  },
  {
   "cell_type": "code",
   "execution_count": null,
   "metadata": {},
   "outputs": [],
   "source": [
    "for key in subs_dict:\n",
    "    if subs_dict[key] == 1:\n",
    "        print(key)\n",
    "        one_dict[key] = 1"
   ]
  },
  {
   "cell_type": "code",
   "execution_count": null,
   "metadata": {},
   "outputs": [],
   "source": [
    "with open('tmp.txt', 'w') as f:\n",
    "    for key in subs_dict:\n",
    "        f.write(str(key) + \" = \" + str(subs_dict[key]) + \";\\n\")"
   ]
  },
  {
   "cell_type": "code",
   "execution_count": null,
   "metadata": {},
   "outputs": [],
   "source": [
    "xpr_res[0][1,1][0]"
   ]
  },
  {
   "cell_type": "code",
   "execution_count": null,
   "metadata": {},
   "outputs": [],
   "source": [
    "\n",
    "subs_res = list()\n",
    "for i in range(6):\n",
    "    tmp = list()\n",
    "    for j in range(6):\n",
    "        try:\n",
    "            tmp.append(xpr_res[0][i,j][0].subs(zero_dict).subs(one_dict))\n",
    "        except:\n",
    "            tmp.append(0)\n",
    "    subs_res.append(tmp)\n"
   ]
  },
  {
   "cell_type": "code",
   "execution_count": null,
   "metadata": {},
   "outputs": [],
   "source": [
    "with open('tmp.txt', 'a') as f:\n",
    "    for i in range(6):\n",
    "        for j in range(6):\n",
    "            f.write(\"res(\" + str(i+1) + \",\" + str(j+1) + \") = \" + str(subs_res[i][j]) + \";\\n\")"
   ]
  }
 ],
 "metadata": {
  "kernelspec": {
   "display_name": "Python 3",
   "language": "python",
   "name": "python3"
  },
  "language_info": {
   "codemirror_mode": {
    "name": "ipython",
    "version": 3
   },
   "file_extension": ".py",
   "mimetype": "text/x-python",
   "name": "python",
   "nbconvert_exporter": "python",
   "pygments_lexer": "ipython3",
   "version": "3.11.6"
  }
 },
 "nbformat": 4,
 "nbformat_minor": 2
}
